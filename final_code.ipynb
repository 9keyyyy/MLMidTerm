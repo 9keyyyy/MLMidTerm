{
  "nbformat": 4,
  "nbformat_minor": 0,
  "metadata": {
    "colab": {
      "provenance": [],
      "collapsed_sections": []
    },
    "kernelspec": {
      "name": "python3",
      "display_name": "Python 3"
    },
    "language_info": {
      "name": "python"
    },
    "accelerator": "GPU",
    "gpuClass": "standard"
  },
  "cells": [
    {
      "cell_type": "code",
      "execution_count": 121,
      "metadata": {
        "id": "jzPSalhj7xXX"
      },
      "outputs": [],
      "source": [
        "import numpy as np\n",
        "import pandas as pd"
      ]
    },
    {
      "cell_type": "markdown",
      "source": [
        "### Load data"
      ],
      "metadata": {
        "id": "xISth2boLh0u"
      }
    },
    {
      "cell_type": "code",
      "source": [
        "# open train data \n",
        "\n",
        "with open('train_with_label.txt', 'r') as f: \n",
        "  data = f.readlines() \n",
        "\n",
        "X_train = [] \n",
        "y_train = [] \n",
        "\n",
        "for i in range(len(data)) : \n",
        "  cur = data[i].strip().split('\\t') \n",
        "  X_train.append(cur[1]+cur[2]) \n",
        "  y_train.append(cur[3]) \n"
      ],
      "metadata": {
        "id": "Ue7nLG4RErUl"
      },
      "execution_count": 122,
      "outputs": []
    },
    {
      "cell_type": "code",
      "source": [
        "# open dev data \n",
        " \n",
        "with open('dev_with_label.txt', 'r') as f: \n",
        "  data = f.readlines() \n",
        " \n",
        "X_test = [] \n",
        "y_test = [] \n",
        "\n",
        "for i in range(len(data)) : \n",
        "  cur = data[i].strip().split('\\t') \n",
        "  X_test.append(cur[1]+cur[2]) \n",
        "  y_test.append(cur[3]) \n"
      ],
      "metadata": {
        "id": "LtP2sb5yEthO"
      },
      "execution_count": 123,
      "outputs": []
    },
    {
      "cell_type": "code",
      "source": [
        "# open test data\n",
        " \n",
        "with open('test_without_label.txt', 'r') as f: \n",
        "  data = f.readlines() \n",
        "\n",
        "test = [] \n",
        "test_id = [] \n",
        " \n",
        "for i in range(len(data)) : \n",
        "  cur = data[i].strip().split('\\t') \n",
        "  test_id.append(cur[0]) \n",
        "  test.append(cur[1]+cur[2]) \n"
      ],
      "metadata": {
        "id": "6n6BNT539neU"
      },
      "execution_count": 124,
      "outputs": []
    },
    {
      "cell_type": "markdown",
      "source": [
        "### Data processing"
      ],
      "metadata": {
        "id": "pYSIXhzQLoTr"
      }
    },
    {
      "cell_type": "code",
      "source": [
        "import re \n",
        "import nltk \n",
        "\n",
        "from nltk.tokenize import word_tokenize \n",
        "from nltk.corpus import stopwords \n",
        "from nltk.stem.porter import PorterStemmer \n",
        "from nltk.util import ngrams \n",
        "from nltk.stem import WordNetLemmatizer \n",
        "\n",
        "nltk.download('punkt') \n",
        "nltk.download('stopwords') \n",
        "nltk.download('wordnet') \n",
        "nltk.download('omw-1.4') "
      ],
      "metadata": {
        "colab": {
          "base_uri": "https://localhost:8080/"
        },
        "id": "GouW01p2Kupr",
        "outputId": "56e48124-0c18-4e74-936e-9264ec3dd663"
      },
      "execution_count": 125,
      "outputs": [
        {
          "output_type": "stream",
          "name": "stderr",
          "text": [
            "[nltk_data] Downloading package punkt to /root/nltk_data...\n",
            "[nltk_data]   Package punkt is already up-to-date!\n",
            "[nltk_data] Downloading package stopwords to /root/nltk_data...\n",
            "[nltk_data]   Package stopwords is already up-to-date!\n",
            "[nltk_data] Downloading package wordnet to /root/nltk_data...\n",
            "[nltk_data]   Package wordnet is already up-to-date!\n",
            "[nltk_data] Downloading package omw-1.4 to /root/nltk_data...\n",
            "[nltk_data]   Package omw-1.4 is already up-to-date!\n"
          ]
        },
        {
          "output_type": "execute_result",
          "data": {
            "text/plain": [
              "True"
            ]
          },
          "metadata": {},
          "execution_count": 125
        }
      ]
    },
    {
      "cell_type": "code",
      "source": [
        "def data_processing(text): \n",
        "  pre_words = re.sub('[^A-Za-z]', ' ', text) \n",
        "  pre_words = pre_words.lower() \n",
        "  \n",
        "  tokenized_words = word_tokenize(pre_words) \n",
        "  stops = set(stopwords.words('english')) \n",
        "  \n",
        "  tokenized_words_remove = [] \n",
        "  for w in tokenized_words: \n",
        "    if w not in stops: \n",
        "      tokenized_words_remove.append(w) \n",
        "  \n",
        "  lem = WordNetLemmatizer() \n",
        "  for i in range(len(tokenized_words_remove)): \n",
        "    tokenized_words_remove[i] = lem.lemmatize(tokenized_words_remove[i]) \n",
        "\n",
        "  return(\" \".join(tokenized_words_remove)) "
      ],
      "metadata": {
        "id": "ENl8fZN3Luk4"
      },
      "execution_count": 126,
      "outputs": []
    },
    {
      "cell_type": "code",
      "source": [
        "X_train = [data_processing(i) for i in X_train] \n",
        "X_test = [data_processing(i) for i in  X_test] \n",
        "X = X_train + X_test \n",
        "\n",
        "test = [data_processing(i) for i in test] "
      ],
      "metadata": {
        "id": "UclDmrkURf5B"
      },
      "execution_count": 127,
      "outputs": []
    },
    {
      "cell_type": "code",
      "source": [
        "from sklearn.feature_extraction.text import CountVectorizer \n",
        "\n",
        "vectorizer = CountVectorizer(max_features=10000) \n",
        "             \n",
        "X = np.asarray(X).astype(\"U\")             \n",
        "X_train = np.asarray(X_train).astype(\"U\") \n",
        "X_test = np.asarray(X_test).astype(\"U\") \n",
        "test = np.asarray(test).astype(\"U\") \n",
        "\n",
        "X_features = vectorizer.fit_transform(X) \n",
        "X_train_features = vectorizer.transform(X_train) \n",
        "X_test_features = vectorizer.transform(X_test) \n",
        "test_features = vectorizer.transform(test) \n",
        "\n",
        "y = y_train + y_test "
      ],
      "metadata": {
        "id": "IEZe-JYpR3Ws"
      },
      "execution_count": 128,
      "outputs": []
    },
    {
      "cell_type": "markdown",
      "source": [
        "### Modeling"
      ],
      "metadata": {
        "id": "wRdS099h6Fhq"
      }
    },
    {
      "cell_type": "code",
      "source": [
        "from sklearn.svm import SVC \n",
        "from sklearn.model_selection import GridSearchCV \n",
        "\n",
        "params = { \n",
        "    'C' : [2, 3, 4, 5], \n",
        "    # 'gamma' : [0.01, 0.1, 1, 10,100, 1000], \n",
        "    'kernel' : ['rbf'] \n",
        "} \n",
        "\n",
        "clf = GridSearchCV(SVC(random_state = 0), params, cv=5) \n",
        "clf.fit(X_train_features, y_train)\n",
        "\n",
        "print(clf.best_params_) \n",
        "print(clf.score(X_train_features, y_train)) \n",
        "print(clf.score(X_test_features, y_test))"
      ],
      "metadata": {
        "colab": {
          "base_uri": "https://localhost:8080/"
        },
        "id": "PK3RqnylUhMQ",
        "outputId": "3c786746-fe72-4b72-ab7c-bbf82cce47bd"
      },
      "execution_count": 129,
      "outputs": [
        {
          "output_type": "stream",
          "name": "stdout",
          "text": [
            "{'C': 2, 'kernel': 'rbf'}\n",
            "0.9835663478047584\n",
            "0.600828729281768\n"
          ]
        }
      ]
    },
    {
      "cell_type": "code",
      "source": [
        "clf = SVC(kernel = 'rbf', C=2, random_state=0) \n",
        "clf.fit(X_features, y) \n",
        "\n",
        "pred = clf.predict(test_features) \n",
        " \n",
        "result = [test_id, pred] \n",
        "result = pd.DataFrame(result).T \n",
        "\n",
        "result.head() "
      ],
      "metadata": {
        "colab": {
          "base_uri": "https://localhost:8080/",
          "height": 206
        },
        "id": "q3AoC2Y4UrlP",
        "outputId": "8e085e81-a84c-4fe0-b721-61f04e536f4e"
      },
      "execution_count": 130,
      "outputs": [
        {
          "output_type": "execute_result",
          "data": {
            "text/plain": [
              "           0  1\n",
              "0  test_id_0  1\n",
              "1  test_id_1  1\n",
              "2  test_id_2  1\n",
              "3  test_id_3  0\n",
              "4  test_id_4  0"
            ],
            "text/html": [
              "\n",
              "  <div id=\"df-1f686091-5615-4602-ac62-f66c5fe8697a\">\n",
              "    <div class=\"colab-df-container\">\n",
              "      <div>\n",
              "<style scoped>\n",
              "    .dataframe tbody tr th:only-of-type {\n",
              "        vertical-align: middle;\n",
              "    }\n",
              "\n",
              "    .dataframe tbody tr th {\n",
              "        vertical-align: top;\n",
              "    }\n",
              "\n",
              "    .dataframe thead th {\n",
              "        text-align: right;\n",
              "    }\n",
              "</style>\n",
              "<table border=\"1\" class=\"dataframe\">\n",
              "  <thead>\n",
              "    <tr style=\"text-align: right;\">\n",
              "      <th></th>\n",
              "      <th>0</th>\n",
              "      <th>1</th>\n",
              "    </tr>\n",
              "  </thead>\n",
              "  <tbody>\n",
              "    <tr>\n",
              "      <th>0</th>\n",
              "      <td>test_id_0</td>\n",
              "      <td>1</td>\n",
              "    </tr>\n",
              "    <tr>\n",
              "      <th>1</th>\n",
              "      <td>test_id_1</td>\n",
              "      <td>1</td>\n",
              "    </tr>\n",
              "    <tr>\n",
              "      <th>2</th>\n",
              "      <td>test_id_2</td>\n",
              "      <td>1</td>\n",
              "    </tr>\n",
              "    <tr>\n",
              "      <th>3</th>\n",
              "      <td>test_id_3</td>\n",
              "      <td>0</td>\n",
              "    </tr>\n",
              "    <tr>\n",
              "      <th>4</th>\n",
              "      <td>test_id_4</td>\n",
              "      <td>0</td>\n",
              "    </tr>\n",
              "  </tbody>\n",
              "</table>\n",
              "</div>\n",
              "      <button class=\"colab-df-convert\" onclick=\"convertToInteractive('df-1f686091-5615-4602-ac62-f66c5fe8697a')\"\n",
              "              title=\"Convert this dataframe to an interactive table.\"\n",
              "              style=\"display:none;\">\n",
              "        \n",
              "  <svg xmlns=\"http://www.w3.org/2000/svg\" height=\"24px\"viewBox=\"0 0 24 24\"\n",
              "       width=\"24px\">\n",
              "    <path d=\"M0 0h24v24H0V0z\" fill=\"none\"/>\n",
              "    <path d=\"M18.56 5.44l.94 2.06.94-2.06 2.06-.94-2.06-.94-.94-2.06-.94 2.06-2.06.94zm-11 1L8.5 8.5l.94-2.06 2.06-.94-2.06-.94L8.5 2.5l-.94 2.06-2.06.94zm10 10l.94 2.06.94-2.06 2.06-.94-2.06-.94-.94-2.06-.94 2.06-2.06.94z\"/><path d=\"M17.41 7.96l-1.37-1.37c-.4-.4-.92-.59-1.43-.59-.52 0-1.04.2-1.43.59L10.3 9.45l-7.72 7.72c-.78.78-.78 2.05 0 2.83L4 21.41c.39.39.9.59 1.41.59.51 0 1.02-.2 1.41-.59l7.78-7.78 2.81-2.81c.8-.78.8-2.07 0-2.86zM5.41 20L4 18.59l7.72-7.72 1.47 1.35L5.41 20z\"/>\n",
              "  </svg>\n",
              "      </button>\n",
              "      \n",
              "  <style>\n",
              "    .colab-df-container {\n",
              "      display:flex;\n",
              "      flex-wrap:wrap;\n",
              "      gap: 12px;\n",
              "    }\n",
              "\n",
              "    .colab-df-convert {\n",
              "      background-color: #E8F0FE;\n",
              "      border: none;\n",
              "      border-radius: 50%;\n",
              "      cursor: pointer;\n",
              "      display: none;\n",
              "      fill: #1967D2;\n",
              "      height: 32px;\n",
              "      padding: 0 0 0 0;\n",
              "      width: 32px;\n",
              "    }\n",
              "\n",
              "    .colab-df-convert:hover {\n",
              "      background-color: #E2EBFA;\n",
              "      box-shadow: 0px 1px 2px rgba(60, 64, 67, 0.3), 0px 1px 3px 1px rgba(60, 64, 67, 0.15);\n",
              "      fill: #174EA6;\n",
              "    }\n",
              "\n",
              "    [theme=dark] .colab-df-convert {\n",
              "      background-color: #3B4455;\n",
              "      fill: #D2E3FC;\n",
              "    }\n",
              "\n",
              "    [theme=dark] .colab-df-convert:hover {\n",
              "      background-color: #434B5C;\n",
              "      box-shadow: 0px 1px 3px 1px rgba(0, 0, 0, 0.15);\n",
              "      filter: drop-shadow(0px 1px 2px rgba(0, 0, 0, 0.3));\n",
              "      fill: #FFFFFF;\n",
              "    }\n",
              "  </style>\n",
              "\n",
              "      <script>\n",
              "        const buttonEl =\n",
              "          document.querySelector('#df-1f686091-5615-4602-ac62-f66c5fe8697a button.colab-df-convert');\n",
              "        buttonEl.style.display =\n",
              "          google.colab.kernel.accessAllowed ? 'block' : 'none';\n",
              "\n",
              "        async function convertToInteractive(key) {\n",
              "          const element = document.querySelector('#df-1f686091-5615-4602-ac62-f66c5fe8697a');\n",
              "          const dataTable =\n",
              "            await google.colab.kernel.invokeFunction('convertToInteractive',\n",
              "                                                     [key], {});\n",
              "          if (!dataTable) return;\n",
              "\n",
              "          const docLinkHtml = 'Like what you see? Visit the ' +\n",
              "            '<a target=\"_blank\" href=https://colab.research.google.com/notebooks/data_table.ipynb>data table notebook</a>'\n",
              "            + ' to learn more about interactive tables.';\n",
              "          element.innerHTML = '';\n",
              "          dataTable['output_type'] = 'display_data';\n",
              "          await google.colab.output.renderOutput(dataTable, element);\n",
              "          const docLink = document.createElement('div');\n",
              "          docLink.innerHTML = docLinkHtml;\n",
              "          element.appendChild(docLink);\n",
              "        }\n",
              "      </script>\n",
              "    </div>\n",
              "  </div>\n",
              "  "
            ]
          },
          "metadata": {},
          "execution_count": 130
        }
      ]
    },
    {
      "cell_type": "code",
      "source": [
        "result.to_csv('test.txt', index=False, header=None, sep='\\t') "
      ],
      "metadata": {
        "id": "A_Raegc3kUI-"
      },
      "execution_count": 131,
      "outputs": []
    },
    {
      "cell_type": "code",
      "source": [],
      "metadata": {
        "id": "ykKECNDit7r7"
      },
      "execution_count": 131,
      "outputs": []
    }
  ]
}